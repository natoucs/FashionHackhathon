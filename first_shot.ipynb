{
 "cells": [
  {
   "cell_type": "raw",
   "metadata": {},
   "source": [
    "Start Tuesday 25th Sept 15:00.\n",
    "\n",
    "Supervised learning: using description or attributes labels to build it.\n",
    "Unsupervised learning: Using the image and forgetting the attributes.\n",
    "\n",
    "Ideas?\n",
    "- Do something with AI but demonstrating your business awareness - ie. the usefulness of what you implement for the company and customers.\n",
    "- Extract labels for products just from the image\n",
    "- Recommend similar products using only visual similiraity (PCA with misclassified objects assumed similar)\n",
    "- Recommend products using label similarity extracted from the image.\n",
    "\n",
    "Be careful:\n",
    "- Training time, you only have your CPU, no AWS or GPU.\n",
    "\n",
    "Attitude: \n",
    "- Start by implementing with techniques you know, if you have more time, venture off trying new algorithm from the internet.\n",
    "- This is a 48h Hackathon, don't stop.\n",
    "- Don't use all the data provided, try doing a lot with only a small part and then expand your model using more data types."
   ]
  },
  {
   "cell_type": "markdown",
   "metadata": {},
   "source": [
    "1. Import the dataset, visualise some images.\n",
    "2. Print one ProductId's image, attributes and description."
   ]
  },
  {
   "cell_type": "code",
   "execution_count": 64,
   "metadata": {},
   "outputs": [
    {
     "name": "stdout",
     "output_type": "stream",
     "text": [
      "['ProductId' 'AttributeName' 'AttributeValueName']\n",
      "(13455, 3)\n"
     ]
    }
   ],
   "source": [
    "import numpy as np\n",
    "location = 'attributes.csv'\n",
    "tmp = np.genfromtxt(location, delimiter=',', dtype=np.string_) #load csv\n",
    "attributes = tmp[1:,:] #remove headers\n",
    "attributes_headers = tmp[0]\n",
    "print(attributes_headers)\n",
    "print(attributes.shape)"
   ]
  },
  {
   "cell_type": "code",
   "execution_count": 59,
   "metadata": {},
   "outputs": [
    {
     "name": "stdout",
     "output_type": "stream",
     "text": [
      "['ProductId' 'Description' 'DescriptionDate' 'SeasonOriginal'\n",
      " 'ProductName' 'Brand' 'Gender' 'Colour' 'Family' 'Category'\n",
      " 'ArticlePhotoId' 'CreateDate']\n",
      "(12631, 12)\n"
     ]
    }
   ],
   "source": [
    "location = 'products.csv'\n",
    "tmp = np.genfromtxt(location, delimiter=',', dtype=np.string_, comments=None, usecols=np.arange(0,12)) #added 2 conditions for import to work \n",
    "products = tmp[1:,:] \n",
    "products_headers = tmp[0]\n",
    "print(products_headers)\n",
    "print(products.shape)"
   ]
  },
  {
   "cell_type": "code",
   "execution_count": 60,
   "metadata": {},
   "outputs": [],
   "source": [
    "# Images are too heavy for import, get them when needed\n",
    "# First let's see how many images we have for all products 0,1,2 ?\n",
    "# Need to import the names of all images while stripping the jpg header\n"
   ]
  },
  {
   "cell_type": "code",
   "execution_count": 63,
   "metadata": {},
   "outputs": [
    {
     "name": "stdout",
     "output_type": "stream",
     "text": [
      "['11326917'\n",
      " 'White and blue striped 3/4 sleeve top from Pleats Please By Issey Miyake. '\n",
      " '2016-02-16 22:38:11.413' 'SS16' 'striped 3/4 sleeve top'\n",
      " 'PLEATS PLEASE BY ISSEY MIYAKE' 'WOMEN' 'BLUE' 'Clothing' 'Tops'\n",
      " '6300788' '2016-01-28 14:00:31.883']\n",
      "['11314649' 'Sleeve Length' 'Shortsleeved']\n"
     ]
    }
   ],
   "source": [
    "print(products[545])\n",
    "print(attributes[545])"
   ]
  },
  {
   "cell_type": "code",
   "execution_count": 91,
   "metadata": {},
   "outputs": [
    {
     "name": "stdout",
     "output_type": "stream",
     "text": [
      "11509675_7188420_255.jpg\n",
      "11509675\n"
     ]
    }
   ],
   "source": [
    "import os\n",
    "imageFullNames = os.listdir('images')\n",
    "imageIds = [a.split(\"_\", 1)[0] for a in imageFullNames] #remove file name after ProductId\n",
    "print(imageFullNames[56])\n",
    "print(imageIds[56])"
   ]
  },
  {
   "cell_type": "code",
   "execution_count": null,
   "metadata": {},
   "outputs": [],
   "source": []
  }
 ],
 "metadata": {
  "kernelspec": {
   "display_name": "Python 2",
   "language": "python",
   "name": "python2"
  },
  "language_info": {
   "codemirror_mode": {
    "name": "ipython",
    "version": 2
   },
   "file_extension": ".py",
   "mimetype": "text/x-python",
   "name": "python",
   "nbconvert_exporter": "python",
   "pygments_lexer": "ipython2",
   "version": "2.7.15"
  }
 },
 "nbformat": 4,
 "nbformat_minor": 2
}
